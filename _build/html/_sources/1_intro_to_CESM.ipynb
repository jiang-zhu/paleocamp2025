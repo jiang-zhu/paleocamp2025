{
 "cells": [
  {
   "cell_type": "markdown",
   "id": "30c9d0aa-d5c1-45db-a1c6-18cc6263192e",
   "metadata": {},
   "source": [
    "![paleoCAMP logo](./images/paleoCAMPLogo.png)\n",
    "\n",
    "# 1. Introduction to CESM\n",
    "\n",
    "**Tutorials at [the 2025 paleoCAMP](https://paleoclimate.camp/) | June 16–June 30, 2025**\n",
    "       \n",
    "[Jiang Zhu](https://staff.cgd.ucar.edu/jiangzhu/)  \n",
    "[jiangzhu@ucar.edu](mailto:jiangzhu@ucar.edu)  \n",
    "Climate & Global Dynamics Laboratory  \n",
    "NSF National Center for Atmospheric Research  "
   ]
  },
  {
   "cell_type": "markdown",
   "id": "c554eb7e-b8a3-4f7d-b937-cf34334727e1",
   "metadata": {},
   "source": [
    "------\n",
    "## Learning Objectives\n",
    "\n",
    "- Know the basic structure of CESM as a software, including the workspaces\n",
    "\n",
    "**Time to learn**: 30 minutes\n",
    "\n",
    "**NOTE**: Hands-on exercise is in the next module. You don't need to do anything yet."
   ]
  },
  {
   "cell_type": "markdown",
   "id": "f669fec0-6c50-4c50-a261-3710439ee780",
   "metadata": {},
   "source": [
    "--- \n",
    "## CESM as a software  \n",
    "- ~5 million lines of FORTRAN* source code and scripts\n",
    "- You need to **build the source code** to create and run the executable.\n",
    "- Read more about CESM [here](https://www.cesm.ucar.edu/)\n",
    "\n",
    "*NOTE: [Why FORTRAN?](https://partee.io/2021/02/21/climate-model-response/)"
   ]
  },
  {
   "cell_type": "markdown",
   "id": "e3dc5ada-8f23-4711-919c-66d2f77903d2",
   "metadata": {},
   "source": [
    "## CESM Workspaces (assuming you run a company that builds new  electric vehicles)\n",
    "1. CESM Code, \"_Headquarter_\"\n",
    "  - contains your intellectual properties, e.g., research/designing of EVs\n",
    "  - FORTRAN, Python, & XML (Extensible Markup Language) files\n",
    "2. Inputdata Directory, \"_Supply Warehouse_\"\n",
    "  - contains the raw materials, e.g., steel and batteries\n",
    "  - NetCDF data\n",
    "3. Case Directory, \"_Production Control Room_\"\n",
    "  - where you give instructions, e.g., to hire 100 workers and produce 5 EVs per day\n",
    "  - Text, script, XML files\n",
    "4. Build/Run Directory, \"_Factory_\"\n",
    "  - where workers assemble the EVs\n",
    "  - Library, executables, NetCDF files, ...\n",
    "5. Archive Directory, \"_Storage_\"\n",
    "  - where you store the assembled EVs\n",
    "  - NetCDF files, log files in text, ...\n",
    "\n",
    "![CESM2 Workspaces](./images/CESM2_Workspaces_Detail.png)\n",
    "<p style=\"text-align: center;\"> Figure: CESM2 Workspaces</p>"
   ]
  },
  {
   "cell_type": "markdown",
   "id": "4b87e4b4-65fa-40ab-bb59-e0a152664fa1",
   "metadata": {},
   "source": [
    "## Get the CESM code\n",
    "- CESM code development and release is on Github: [https://github.com/ESCOMP/CESM.git](https://github.com/ESCOMP/CESM.git)\n",
    "- If you would like to get a copy of the code in the future\n",
    "  - git clone -b release-cesm2.1.5 [https://github.com/ESCOMP/CESM.git](https://github.com/ESCOMP/CESM.git) cesm2.1.5\n",
    "  - ./manage_externals/checkout_externals\n",
    "\n",
    "*NOTE: for this tutorial, if you decide to run CESM, please use the code in my workspace: `/glade/work/jiangzhu/paleocamp/cesm2.1.5`"
   ]
  },
  {
   "cell_type": "markdown",
   "id": "4ebf97c9-26bb-4aa2-af7f-60e09e373454",
   "metadata": {},
   "source": [
    "---\n",
    "## Summary\n",
    "- CESM is a software primarily in FORTRAN and you need to build the executable.\n",
    "- Like managing an EV company, you deal with multiple workplaces. _What are they?_\n",
    "- CESM code is managed on GitHub."
   ]
  },
  {
   "cell_type": "markdown",
   "id": "58f39411-c0bf-412f-a861-aa10f6468c49",
   "metadata": {},
   "source": [
    "---\n",
    "## Optional advanced resources\n",
    "* Check out the full annual CESM Tutorial [here](https://ncar.github.io/CESM-Tutorial/README.html)\n",
    "* Apply for the Annual CESM Tutorial for free"
   ]
  }
 ],
 "metadata": {
  "kernelspec": {
   "display_name": "Python 3 (ipykernel)",
   "language": "python",
   "name": "python3"
  },
  "language_info": {
   "codemirror_mode": {
    "name": "ipython",
    "version": 3
   },
   "file_extension": ".py",
   "mimetype": "text/x-python",
   "name": "python",
   "nbconvert_exporter": "python",
   "pygments_lexer": "ipython3",
   "version": "3.12.5"
  }
 },
 "nbformat": 4,
 "nbformat_minor": 5
}
