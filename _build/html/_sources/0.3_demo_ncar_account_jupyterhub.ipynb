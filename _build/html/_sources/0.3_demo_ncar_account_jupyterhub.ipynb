{
 "cells": [
  {
   "cell_type": "markdown",
   "id": "e039a7ee-8a45-4fa0-9004-2e8081055003",
   "metadata": {},
   "source": [
    "![paleoCAMP logo](./images/paleoCAMPLogo.png)\n",
    "\n",
    "# 0.3 Introduction to NCAR Supercomputing\n",
    "\n",
    "\n",
    "**Tutorial at [the 2025 paleoCAMP](https://paleoclimate.camp/) | June 16–June 30, 2025**  \n",
    "       \n",
    "[Jiang Zhu](https://staff.cgd.ucar.edu/jiangzhu/)  \n",
    "[jiangzhu@ucar.edu](mailto:jiangzhu@ucar.edu)  \n",
    "Climate & Global Dynamics Laboratory  \n",
    "NSF National Center for Atmospheric Research  "
   ]
  },
  {
   "cell_type": "markdown",
   "id": "61ebe76a-da98-4a87-aaea-7babbaef4e3b",
   "metadata": {},
   "source": [
    "------\n",
    "\n",
    "## Learning Objectives\n",
    "\n",
    "- Learn to connect and use NCAR computing resources: Derecho and JupyterHub\n",
    "\n",
    "**Time to learn**: 10 minutes\n",
    "\n",
    "------"
   ]
  },
  {
   "cell_type": "markdown",
   "id": "3451e1d8-4ae8-4345-8edc-cba21c7cfa7b",
   "metadata": {},
   "source": [
    "------\n",
    "## NSF NCAR Advanced Research Computing\n",
    "------\n",
    "- The NSF NCAR Computational and Information Systems Lab (CISL) provides resources for *high performance computing (***Derecho***)*, *data anslysis and visualization (***JupyterHub***)*, and *data storage and archives (***RDA***)*.\n",
    "- You need an account in order to access these resources. ***Let Jiang know if you haven't got your account.***\n",
    "  - To login, please set up you CIT password and the DUO two-factor authenticationthe (Duo Mobile app or a landline phone).\n",
    "  - Search [Authenticating with Duo](https://arc.ucar.edu/docs) for details.\n",
    "  - Call 303-497-2000 or email `cislhelp@ucar.edu` if you don't have a CIT password.\n",
    "- ***The project number for paleoCAMP is `UAZN0042`***, which will expire on July 31, 2025.\n",
    "- See [here](https://arc.ucar.edu/xras_submit/opportunities) for options for a long-term access, such as the \"_Data Anaysis Allocation (University)_\"."
   ]
  },
  {
   "cell_type": "markdown",
   "id": "ff1c23fc-c3fd-4891-b9bf-d20221183e90",
   "metadata": {},
   "source": [
    "---\n",
    "## Connect `Derecho` via Terminal\n",
    "\n",
    "***Most of the users use `terminal` to remotely access the NCAR HPC and run CESM there.***\n",
    "\n",
    "A `terminal` is a text-based interface used to control a Unix computer. It is widely considered the most efficient method to accomplish a given task or maintenance operation."
   ]
  },
  {
   "cell_type": "markdown",
   "id": "360bbeee-d0a7-4543-a66f-48210df022a0",
   "metadata": {},
   "source": [
    "### Launch a terminal from your system (Mac or PC)\n",
    "\n",
    "#### If on a Mac, open a terminal\n",
    "Go to the search spotlight (magnifying glass icon) and type in `terminal`. \n",
    "\n",
    "- `Terminal` is automatically built into the MacOS and clicking on it will open a terminal window.\n",
    "\n",
    "- `iTerm` is a third-party software that was installed by the user on their laptop and is another option for opening a terminal.\n",
    "\n",
    "![terminal mac](./images/term_mac.png)\n",
    "<p style=\"text-align: center;\"> Figure: terminal mac</p>"
   ]
  },
  {
   "cell_type": "markdown",
   "id": "40d5eb0e-15ee-42ba-9783-f84203f555f7",
   "metadata": {},
   "source": [
    "#### If on a PC, open a terminal\n",
    "Go to the start menu and type in `terminal`. \n",
    "\n",
    "- `Terminal` will open a terminal window.\n",
    "\n",
    "- `Command Prompt` will open a terminal window.\n",
    "\n",
    "![terminal PC](./images/term_pc.png)\n",
    "<p style=\"text-align: center;\"> Figure: terminal PC</p>"
   ]
  },
  {
   "cell_type": "markdown",
   "id": "1950e83f-bbce-4572-8fcf-8ec7fbc6b2a5",
   "metadata": {},
   "source": [
    "### Login into Derecho at the NSF NCAR using ssh\n",
    "```bash\n",
    "ssh -XY YOUR_USERNAME@derecho.hpc.ucar.edu\n",
    "```\n",
    "then type in your CIT password (the one you set up with CISL) and approve the DUO push\n",
    "\n",
    "![terminal SSH](./images/derecho_ssh_login.png)\n",
    "<p style=\"text-align: center;\"> Figure: terminal SSH</p>\n",
    "\n",
    "- The -XY option enables the X11 forwarding.\n",
    "- X11 forwarding is an SSH protocol that enables users to run graphical applications on a remote server and interact with them using their local display and I/O devices."
   ]
  },
  {
   "cell_type": "markdown",
   "id": "c525c12d-ecf5-4cf8-a007-2f6e8f26084b",
   "metadata": {},
   "source": [
    "---\n",
    "## Use the NCAR JupyterHub\n",
    "\n",
    "***I used JupyterHub daily to access data and perform analyses.***\n",
    "\n",
    "### Go to NCAR JupyterHub: [https://jupyterhub.hpc.ucar.edu/](https://jupyterhub.hpc.ucar.edu/)  \n",
    "<!-- \n",
    "<p align=\"center\"><img src=\"./images/jupyterhub_login0.png\" width=\"300\"/></p>\n",
    "<p align=\"center\"><img src=\"./images/jupyterhub_login1.png\" width=\"300\"/></p>\n",
    " -->\n",
    " \n",
    "![JupyterHub login0](./images/jupyterhub_login0.png)\n",
    "<p style=\"text-align: left;\"> Figure: JupyterHub login0</p>"
   ]
  },
  {
   "cell_type": "markdown",
   "id": "0513c717-6c0f-4564-9943-5ba2576e4f69",
   "metadata": {},
   "source": [
    "### Sign in with your `username` and `password,passcode`\n",
    "\n",
    "![JupyterHub login1](./images/jupyterhub_login1.png)\n",
    "<p style=\"text-align: left;\"> Figure: JupyterHub login1</p>\n",
    "\n",
    "- Type in your `username`\n",
    "- Type in your `password,passcode`\n",
    "  - `password` is the CIT password you set up with CISL\n",
    "  - `passcode` is the six digits on your DUO app (see the image below)\n",
    "- NOTE: This is the way to avoid jamming DUO-JupyterHub when multiple users login at the same time\n",
    "- NOTE: For the future use, sign in with your username and password, and approve the DUO push  \n",
    "\n",
    "<!-- <p align=\"center\"><img src=\"./images/DUO_Passcode.png\" alt=\"DUO Passcode\" width=\"300\"/></p>\n",
    " -->\n",
    " \n",
    "![JupyterHub login](./images/DUO_Passcode.png)\n",
    "<p style=\"text-align: center;\">Figure: Jupyterhub Derecho</p>"
   ]
  },
  {
   "cell_type": "markdown",
   "id": "2ef1fec5-af64-43ce-87e1-a8beb37f3646",
   "metadata": {},
   "source": [
    "### Start the JupyterHub\n",
    "\n",
    "* From the dropdown menu, select\n",
    "  * `Casper PBS Batch` under Resource Selection\n",
    "  * `casper` under Queue or Reservation (to save resources)\n",
    "  * `UAZN0042` under Project Account\n",
    "  * `06:00:00` under Wall Time\n",
    "\n",
    "<!-- <p align=\"center\"><img src=\"./images/jupyterhub_login.png\" alt=\"Jupyterhub Derecho\" width=\"600\"/></p>\n",
    "<p style=\"text-align: center;\">Figure: Jupyterhub Derecho</p>\n",
    " -->\n",
    " \n",
    "![Jupyterhub Derecho](./images/jupyterhub_login.png)\n",
    "<p style=\"text-align: center;\"> Figure: Jupyterhub Derecho</p>  "
   ]
  },
  {
   "cell_type": "markdown",
   "id": "0cd3f1d9-9d83-4cba-b1d4-cb19a3e3b200",
   "metadata": {},
   "source": [
    "### Launch a Notebook with Python\n",
    "<!-- <p align=\"center\">\n",
    "  <img src=\"./images/launch_notebook_python.png\" alt=\"Launch Notebook\" width=\"600\"/>\n",
    "</p> -->\n",
    "\n",
    "![Launch Notebook](./images/launch_notebook_python.png)\n",
    "\n",
    "<p style=\"text-align: center;\">Figure: Jupyterhub Derecho</p>\n"
   ]
  },
  {
   "cell_type": "markdown",
   "id": "aff6f880-3dc5-41ef-8aba-98a70c8d1b68",
   "metadata": {},
   "source": [
    "---\n",
    "## How to log out the JupyterHub?\n",
    "- Click the `File` tab and find and click `Log Out` at the bottom"
   ]
  },
  {
   "cell_type": "markdown",
   "id": "d5871779-3a63-43d6-8240-287228c887c2",
   "metadata": {},
   "source": [
    "---\n",
    "## More learning resources\n",
    "- Derecho [New user orientation](https://arc.ucar.edu/knowledge_base/68878414)\n",
    "- New user training: [YouTube Recording](https://youtu.be/a_M9b-UQ76E) and [presentation slides](https://www.cisl.ucar.edu/sites/default/files/2024-05/HPC%20New_User_Training_2024.05.28.pdf)"
   ]
  }
 ],
 "metadata": {
  "kernelspec": {
   "display_name": "Python 3 (ipykernel)",
   "language": "python",
   "name": "python3"
  },
  "language_info": {
   "codemirror_mode": {
    "name": "ipython",
    "version": 3
   },
   "file_extension": ".py",
   "mimetype": "text/x-python",
   "name": "python",
   "nbconvert_exporter": "python",
   "pygments_lexer": "ipython3",
   "version": "3.12.5"
  }
 },
 "nbformat": 4,
 "nbformat_minor": 5
}
