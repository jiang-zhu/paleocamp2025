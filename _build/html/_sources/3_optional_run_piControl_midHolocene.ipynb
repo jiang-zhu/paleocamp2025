{
 "cells": [
  {
   "cell_type": "markdown",
   "id": "68943315-50bd-41c0-be78-1d748d8c5f12",
   "metadata": {},
   "source": [
    "![paleoCAMP logo](./images/paleoCAMPLogo.png)\n",
    "\n",
    "# 3. (Optional) Run a pair of piControl and midHolocene simulations\n",
    "\n",
    "**Tutorials at [the 2025 paleoCAMP](https://paleoclimate.camp/) | June 16–June 30, 2025**\n",
    "       \n",
    "[Jiang Zhu](https://staff.cgd.ucar.edu/jiangzhu/)  \n",
    "[jiangzhu@ucar.edu](mailto:jiangzhu@ucar.edu)  \n",
    "Climate & Global Dynamics Laboratory  \n",
    "NSF National Center for Atmospheric Research   "
   ]
  },
  {
   "cell_type": "markdown",
   "id": "bc3d87a3-deab-4199-9d5b-89316a2d143d",
   "metadata": {},
   "source": [
    "------\n",
    "\n",
    "**Learning Objectives:**\n",
    "\n",
    "* Run simple CESM simulations\n",
    "* Gain hands-on skills on customizing the run length and namelists\n",
    "* Know the importance of validating your numerical experiments \n",
    "* Understand the idea of more complex simulation by examining steps to set up an LGM simulation\n",
    "  \n",
    "**Time to learn**: 60 minutes"
   ]
  },
  {
   "cell_type": "markdown",
   "id": "c5d242e0-aaf9-4d48-9443-ce1213be0e4c",
   "metadata": {},
   "source": [
    "---\n",
    "**How to get started?**\n",
    "\n",
    "**Use terminal from your system directly**\n",
    "```bash\n",
    "ssh -XY YOUR_SUERNAME@derecho.hpc.ucar.edu\n",
    "```\n",
    "**Type in your CIT password (the one you set up with CISL) and approve the DUO push**\n",
    "\n",
    "<!-- <p align=\"center\"><img src=\"./images/derecho_ssh_login.png\" width=\"500\"/></p> -->\n",
    "\n",
    "![Derecho SSH](./images/derecho_ssh_login.png)    "
   ]
  },
  {
   "cell_type": "markdown",
   "id": "03f3492f-bc2f-4af9-b576-082cbaf367ce",
   "metadata": {},
   "source": [
    "---\n",
    "<div class=\"alert alert-info\">   \n",
    "\n",
    "**REMINDER: CESM directories**\n",
    "\n",
    "- Source Code Directory (\"Headquarter\"): `/glade/work/jiangzhu/paleocamp/cesm2.1.5/`  \n",
    "- Case Directory (\"Production Control Room\"): e.g., `~/b.e21.B1850.f19_g17.piControl.001`  \n",
    "- Run directory (\"Factory\"): e.g., `/glade/derecho/scratch/jiangzhu/b.e21.B1850.f19_g17.piControl.001/run`\n",
    "- Archive directory (\"Storage\"): `/glade/derecho/scratch/jiangzhu/archive/b.e21.B1850.f19_g17.piControl.001/`\n",
    "</div>"
   ]
  },
  {
   "cell_type": "markdown",
   "id": "f669fec0-6c50-4c50-a261-3710439ee780",
   "metadata": {},
   "source": [
    "---\n",
    "## Task 1: run a fully coupled preindustrial simulation for one year\n",
    "\n",
    "### Hints:  \n",
    "- What are the four steps?  \n",
    "- What is the compset for fully coupled preindustrial?  \n",
    "- Use resolution of `f19_g17` for fast throughput\n",
    "- Following the [CESM naming conventions](https://www.cesm.ucar.edu/models/cesm2/naming-conventions), use `b.e21.B1850.f19_g17.piControl.001` as the case name\n",
    "- Which XML variable should you change to tell the model to run for one year? (do this before `./case.submit`)\n",
    "- It may take ~16 minutes to finish the one-year simulation."
   ]
  },
  {
   "cell_type": "markdown",
   "id": "a0ae16a4-bac8-4bb8-9ebe-c387948e068c",
   "metadata": {},
   "source": [
    "<div class=\"alert alert-success\">   \n",
    "<details>\n",
    "<summary><font face=\"Times New Roman\" color='blue'>Click here for the solution</font></summary><br>\n",
    " \n",
    "\n",
    "**1. create a new case:** go into the `scripts` directory in the CESM Code and run the `create_newcase` command\n",
    "```bash\n",
    "cd /glade/work/jiangzhu/paleocamp/cesm2.1.5/cime/scripts\n",
    "./create_newcase --case ~/b.e21.B1850.f19_g17.piControl.001 --compset B1850 --res f19_g17 --project UAZN0042\n",
    "```\n",
    "<br>\n",
    "\n",
    "**2. case setup:** go into the Case Directory and run `case.setup`\n",
    "```bash\n",
    "cd ~/b.e21.B1850.f19_g17.piControl.001\n",
    "./case.setup\n",
    "```\n",
    "<br>   \n",
    "\n",
    "**3. case build:** stay in the Case Directory and run `case.build` (change the run length using `xmlchange`)\n",
    "```bash\n",
    "./xmlchange STOP_OPTION=nyears,STOP_N=1\n",
    "./case.build\n",
    "```\n",
    "<br>\n",
    "\n",
    "**4. Build and submit**\n",
    "```bash\n",
    "./case.submit\n",
    "```\n",
    "\n",
    "</details>\n",
    "</div>"
   ]
  },
  {
   "attachments": {},
   "cell_type": "markdown",
   "id": "608da8c0-9165-4a3b-8c95-5473a63b0d74",
   "metadata": {},
   "source": [
    "### Further information\n",
    "- Building the executable may take more than 10 minutes.\n",
    "- While you wait, open a second terminal and practice your Unix commands (such as `cd`, `ls`, and `grep`) by visiting your directories of \"Production Control Room\", \"Factory\", and \"Headquarter\", and see what are there.\n",
    "- After submitting the job, use `qstat -u YOUR_USERNAME` to check the status of your job.\n",
    "- Once the model is running, select one of your favorite components and read the log file (in the Run Directory, \"_Factory_\") and see what the model is doing."
   ]
  },
  {
   "cell_type": "markdown",
   "id": "d2194d8d-de76-42e7-bc2d-1e5e17060b03",
   "metadata": {},
   "source": [
    "---\n",
    "## Task 2: run a fully coupled mid-Holocene simulation with the orbital forcing for one year\n",
    "\n",
    "### Hints:  \n",
    "- Use compset `B1850` and edit `user_nl_cpl` to set up the orbital configuration (no mid-Holocene compset available)\n",
    "- Following the [CESM naming conventions](https://www.cesm.ucar.edu/models/cesm2/naming-conventions), use `b.e21.B1850.f19_g17.midHolocene.001` as the case name\n",
    "- According to Table 1 of [Otto-Bliesner et al., (2017)](https://gmd.copernicus.org/articles/10/3979/2017/gmd-10-3979-2017.pdf), Eccentricity = 0.018682, Obliquity (degrees) = 24.105, Perihelion = 0.87 (for simplicity, we don't consider the other forcings here, i.e., CO2)\n",
    "  - In the CESM world, this means\n",
    "    - orb_mode = \"fixed_parameters\"\n",
    "    - orb_eccen = 0.018682\n",
    "    - orb_obliq = 24.105\n",
    "    - orb_mvelp = 0.87\n",
    "  - Search `orb_` [here](https://docs.cesm.ucar.edu/models/cesm2/settings/current/drv_nml.html) to learn more\n",
    "- Use Unix editor `vi`/`emacs`/`nano` to open, edit, and save\n",
    "- These namelist changes can be done after `case.build` but before `case.submit`\n"
   ]
  },
  {
   "cell_type": "markdown",
   "id": "ef435991-cf4a-41bd-8d27-891ae3f14da5",
   "metadata": {},
   "source": [
    "<div class=\"alert alert-success\">   \n",
    "<details>\n",
    "<summary><font face=\"Times New Roman\" color='blue'>Click here for the solution</font></summary><br>\n",
    " \n",
    "\n",
    "**1. create a new case:** go into scripts directory in the CESM Code and run the `create_newcase` command\n",
    "```bash\n",
    "cd /glade/work/jiangzhu/paleocamp/cesm2.1.5/cime/scripts\n",
    "./create_newcase --case ~/b.e21.B1850.f19_g17.midHolocene.001 --compset B1850 --res f19_g17  --project UAZN0042\n",
    "```\n",
    "<br>\n",
    "\n",
    "**2. case setup:** go into the Case Directory and run `case.setup`\n",
    "```bash\n",
    "cd ~/b.e21.B1850.f19_g17.midHolocene.001\n",
    "./case.setup\n",
    "```\n",
    "<br>   \n",
    "\n",
    "**3. case build:** stay in the Case Directory and run `case.build`\n",
    "- Add the following to user_nl_cpl\n",
    "```bash\n",
    " orb_mode = \"fixed_parameters\"\n",
    " orb_eccen = 0.018682\n",
    " orb_obliq = 24.105\n",
    " orb_mvelp = 0.87\n",
    "```\n",
    "- Change run length and build the case\n",
    "```bash\n",
    "./xmlchange STOP_OPTION=nyears,STOP_N=1\n",
    "./case.build\n",
    "```\n",
    "<br>\n",
    "\n",
    "**4. Build and submit**\n",
    "```bash\n",
    "./case.submit\n",
    "```\n",
    "\n",
    "</details>\n",
    "</div>"
   ]
  },
  {
   "cell_type": "markdown",
   "id": "2ffbc739-5d40-41bd-9844-86a3c2366948",
   "metadata": {},
   "source": [
    "---\n",
    "## Task 3: how to validate your simulation setup\n",
    "\n",
    "### Hints:  \n",
    "- Going through the log files (in the RUN directory, aka \"Factory\") is one way to see how the model is being run.\n",
    "- Examining `*_in` files (e.g., `CasesDocs/drv_in` in the Case Directory) is another way to check the setup."
   ]
  },
  {
   "cell_type": "markdown",
   "id": "d67250c0-7cd0-478f-948d-c4ec3b2f5fc7",
   "metadata": {},
   "source": [
    "<div class=\"alert alert-success\">   \n",
    "<details>\n",
    "<summary><font face=\"Times New Roman\" color='blue'>Click here for the solution</font></summary><br>\n",
    "    \n",
    "1. If you want to check the log file, `cpl.log.xxx`, in the Run Directory (when model is still running) or in your Storage Directory (when the simulation and archiving have finished).\n",
    "```bash\n",
    "vi /glade/derecho/scratch/jiangzhu/archive/b.e21.B1850.f19_g17.midHolocene.001/logs/cpl.log.3950708.desched1.240330-011322.gz\n",
    "```\n",
    "type `/orb_params` to search, you should see the following\n",
    "```\n",
    " (shr_orb_params) Calculate characteristics of the orbit:\n",
    " (shr_orb_params) Calculate orbit for year:     -4050\n",
    " (shr_orb_params) ------ Computed Orbital Parameters ------\n",
    " (shr_orb_params) Eccentricity      =   1.868182E-02\n",
    " (shr_orb_params) Obliquity (deg)   =   2.410538E+01\n",
    " (shr_orb_params) Obliquity (rad)   =   4.207183E-01\n",
    " (shr_orb_params) Long of perh(deg) =   8.696128E-01\n",
    " (shr_orb_params) Long of perh(rad) =   3.156770E+00\n",
    " (shr_orb_params) Long at v.e.(rad) =  -5.751115E-04\n",
    "```\n",
    "Try also `grep shr_orb_params YOUR_cpl.log`\n",
    "\n",
    "2. If you want to check the `drv_in` file\n",
    "```bash\n",
    "vi /glade/u/home/jiangzhu/b.e21.B1850.f19_g17.midHolocene.001/CaseDocs/drv_in\n",
    "```\n",
    "type `/orb_` to search, you should see the following\n",
    "```\n",
    "   orb_eccen = 0.018682\n",
    "   orb_mode = \"fixed_parameters\"\n",
    "   orb_mvelp = 0.87\n",
    "   orb_obliq = 24.105\n",
    "```\n",
    "\n",
    "Try also `grep orb_ CaseDocs/drv_in` in the Case Directory\n",
    "\n",
    "</details>\n",
    "</div>"
   ]
  },
  {
   "cell_type": "markdown",
   "id": "b29f9278-6824-4c35-b9a2-63b6554e03a0",
   "metadata": {},
   "source": [
    "---\n",
    "## Summary\n",
    "- Set up and run a CESM simulation in four steps\n",
    "- Customize the simulation with `xmlchange` and namelist change"
   ]
  }
 ],
 "metadata": {
  "kernelspec": {
   "display_name": "NPL 2025a",
   "language": "python",
   "name": "npl-2025a"
  },
  "language_info": {
   "codemirror_mode": {
    "name": "ipython",
    "version": 3
   },
   "file_extension": ".py",
   "mimetype": "text/x-python",
   "name": "python",
   "nbconvert_exporter": "python",
   "pygments_lexer": "ipython3",
   "version": "3.12.8"
  }
 },
 "nbformat": 4,
 "nbformat_minor": 5
}
